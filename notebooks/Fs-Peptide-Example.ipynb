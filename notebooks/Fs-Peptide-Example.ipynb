{
 "cells": [
  {
   "cell_type": "markdown",
   "metadata": {},
   "source": [
    "## Modeling dynamics of FS Peptide\n",
    "\n",
    "This example shows a typical, basic usage of the MSMExplorer command line to plot the modeled dynamics of a protein system."
   ]
  },
  {
   "cell_type": "code",
   "execution_count": null,
   "metadata": {},
   "outputs": [],
   "source": [
    "%matplotlib inline\n",
    "\n",
    "from msmbuilder.example_datasets import FsPeptide\n",
    "from msmbuilder.featurizer import DihedralFeaturizer\n",
    "from msmbuilder.decomposition import tICA\n",
    "from msmbuilder.preprocessing import RobustScaler\n",
    "from msmbuilder.cluster import MiniBatchKMeans\n",
    "from msmbuilder.msm import MarkovStateModel\n",
    "\n",
    "import numpy as np\n",
    "\n",
    "import msmexplorer as msme\n",
    "\n",
    "rs = np.random.RandomState(42)"
   ]
  },
  {
   "cell_type": "markdown",
   "metadata": {},
   "source": [
    "## Load Fs Peptide Data\n",
    "This dataset consists of 28 molecular dynamics trajectories of Fs peptide\n",
    "(Ace-A_5(AAARA)_3A-NME), a widely studied model system for protein folding.\n",
    "\n",
    "Each trajectory is 500 ns in length, and saved at a 50 ps time interval (14\n",
    "$\\mu$s aggegrate sampling)"
   ]
  },
  {
   "cell_type": "code",
   "execution_count": null,
   "metadata": {},
   "outputs": [],
   "source": [
    "trajs = FsPeptide(verbose=False).get().trajectories"
   ]
  },
  {
   "cell_type": "markdown",
   "metadata": {},
   "source": [
    "## Extract Backbone Dihedrals\n",
    "\n",
    "The raw (x, y, z) coordinates from the simulation do not respect the translational and rotational symmetry of our problem. A Featurizer transforms cartesian coordinates into other representations. Here we use the DihedralFeaturizer to turn our data into phi and psi dihedral angles. Observe that the 264*3-dimensional space is reduced to 84 dimensions."
   ]
  },
  {
   "cell_type": "code",
   "execution_count": null,
   "metadata": {},
   "outputs": [],
   "source": [
    "featurizer = DihedralFeaturizer(types=['phi', 'psi'])\n",
    "diheds = featurizer.fit_transform(trajs)"
   ]
  },
  {
   "cell_type": "markdown",
   "metadata": {},
   "source": [
    "## Preprocess Data\n",
    "\n",
    "RobustScaler removes the median and scales the data according to the Interquartile Range (IQR). The IQR is the range between the 1st quartile (25th quantile) and the 3rd quartile (75th quantile)."
   ]
  },
  {
   "cell_type": "code",
   "execution_count": null,
   "metadata": {},
   "outputs": [],
   "source": [
    "scaler = RobustScaler()\n",
    "scaled_data = scaler.fit_transform(diheds)"
   ]
  },
  {
   "cell_type": "markdown",
   "metadata": {},
   "source": [
    "## Perform Dimensionality Reduction\n",
    "\n",
    "tICA is similar to principal component analysis (see \"tICA vs. PCA\" example). Note that the 84-dimensional space is reduced to 2 dimensions."
   ]
  },
  {
   "cell_type": "code",
   "execution_count": null,
   "metadata": {},
   "outputs": [],
   "source": [
    "tica_model = tICA(lag_time=10, n_components=2, kinetic_mapping=True)\n",
    "tica_trajs = tica_model.fit_transform(scaled_data)\n",
    "\n",
    "ax, side_ax = msme.plot_trace(tica_trajs[0][:, 0], window=10,\n",
    "                              label='tIC1', xlabel='Timestep')\n",
    "_ = msme.plot_trace(tica_trajs[0][:, 1], window=10, label='tIC2',\n",
    "                    xlabel='Timestep', color='rawdenim', ax=ax,\n",
    "                    side_ax=side_ax)"
   ]
  },
  {
   "cell_type": "markdown",
   "metadata": {},
   "source": [
    "## Perform Clustering\n",
    "\n",
    "Conformations need to be clustered into states (sometimes written as microstates). We cluster based on the tICA projections to group conformations that interconvert rapidly. Note that we transform our trajectories from the 2-dimensional tICA space into a 1-dimensional cluster index."
   ]
  },
  {
   "cell_type": "code",
   "execution_count": null,
   "metadata": {},
   "outputs": [],
   "source": [
    "clusterer = MiniBatchKMeans(n_clusters=12, random_state=rs)\n",
    "clustered_trajs = clusterer.fit_transform(tica_trajs)\n",
    "\n",
    "_ = msme.plot_voronoi(clusterer, xlabel='tIC1', ylabel='tIC2')"
   ]
  },
  {
   "cell_type": "markdown",
   "metadata": {},
   "source": [
    "## Construct MSM\n",
    "\n",
    "We can construct an MSM from the labeled trajectories and see how much it is perturbing the raw MD populations of a microstate.\n",
    "\n",
    "In a large sampling regime, we should see a decorrelated cloud of points in the plot below. See [this thread](https://github.com/msmexplorer/msmexplorer/issues/94) for a  discussion on how to interpret this plot."
   ]
  },
  {
   "cell_type": "code",
   "execution_count": null,
   "metadata": {},
   "outputs": [],
   "source": [
    "msm = MarkovStateModel(lag_time=1, n_timescales=5)\n",
    "assigns = msm.fit_transform(clustered_trajs)\n",
    "\n",
    "_ = msme.plot_pop_resids(msm, color='tarragon')"
   ]
  },
  {
   "cell_type": "markdown",
   "metadata": {},
   "source": [
    "We can also plot the implied timescales. Remember that the timescales in the `MarkovStateModel` object are expressed in units of time-step between indices in the source data supplied to the `fit()` or `fit_transform()` methods."
   ]
  },
  {
   "cell_type": "code",
   "execution_count": null,
   "metadata": {},
   "outputs": [],
   "source": [
    "_ = msme.plot_timescales(msm, ylabel=r'Relaxation Time (frames)')"
   ]
  },
  {
   "cell_type": "markdown",
   "metadata": {},
   "source": [
    "Those are the timescales of an MSM built at a lag time of 1 frame (for this dataset, each frame represents 50 ps).\n",
    "\n",
    "Let's build several MSMs at lag times separated in log space to get a feel for when the MSM starts to have a Markovian behaviour."
   ]
  },
  {
   "cell_type": "code",
   "execution_count": null,
   "metadata": {},
   "outputs": [],
   "source": [
    "msm_list = [\n",
    "    MarkovStateModel(lag_time=x, n_timescales=5, verbose=False)\n",
    "                     for x in [1, 10, 1e2, 1e3, 5e3, 9e3]\n",
    "]\n",
    "\n",
    "for msm in msm_list:\n",
    "    msm.fit(clustered_trajs)"
   ]
  },
  {
   "cell_type": "code",
   "execution_count": null,
   "metadata": {},
   "outputs": [],
   "source": [
    "_ = msme.plot_implied_timescales(msm_list,\n",
    "                                  xlabel=r'$\\tau$ (frames)',\n",
    "                                  ylabel='Relaxation Times (frames)')"
   ]
  },
  {
   "cell_type": "markdown",
   "metadata": {},
   "source": [
    "There is a tradeoff between the MSM accuracy and the fact that we have a limited amount of data. From the plot above we can see that using a lag time of around 1000 frames (or 50 ns) to build an MSM is appropriate (timescales have leveled off and there is a separation between the first and the second longest timescales).\n",
    "\n",
    "We can inspect this timescales more closely now and express them in units of time:"
   ]
  },
  {
   "cell_type": "code",
   "execution_count": null,
   "metadata": {
    "collapsed": true
   },
   "outputs": [],
   "source": [
    "msm = msm_list[3]  # Choose the appropriate MSM from the list"
   ]
  },
  {
   "cell_type": "code",
   "execution_count": null,
   "metadata": {},
   "outputs": [],
   "source": [
    "for i, (ts, ts_u) in enumerate(zip(msm.timescales_, msm.uncertainty_timescales())):\n",
    "    timescale_ns = ts * 50 / 1000\n",
    "    uncertainty_ns = ts_u * 50 / 1000\n",
    "    print('Timescale %d: %.2f ± %.2f ns' % ((i + 1), timescale_ns, uncertainty_ns))"
   ]
  },
  {
   "cell_type": "markdown",
   "metadata": {},
   "source": [
    "## Free Energy Landscape\n",
    "\n",
    "From our MSM and tICA data, we can construct a 2-D free energy landscape."
   ]
  },
  {
   "cell_type": "code",
   "execution_count": null,
   "metadata": {},
   "outputs": [],
   "source": [
    "data = np.concatenate(tica_trajs, axis=0)\n",
    "pi_0 = msm.populations_[np.concatenate(assigns, axis=0)]\n",
    "\n",
    "\n",
    "# Free Energy Surface\n",
    "ax = msme.plot_free_energy(data, obs=(0, 1), n_samples=10000,\n",
    "                          pi=pi_0, gridsize=100, vmax=5.,\n",
    "                          n_levels=8, cut=5, xlabel='tIC1',\n",
    "                          ylabel='tIC2', random_state=rs)\n",
    "\n",
    "# MSM Network\n",
    "pos = dict(zip(range(clusterer.n_clusters), clusterer.cluster_centers_))\n",
    "_ = msme.plot_msm_network(msm, pos=pos, node_color='carbon',\n",
    "                          with_labels=False)\n",
    "\n",
    "\n",
    "# Top Transition Pathway\n",
    "w = (msm.left_eigenvectors_[:, 1] - msm.left_eigenvectors_[:, 1].min())\n",
    "w /= w.max()\n",
    "cmap = msme.utils.make_colormap(['rawdenim', 'lightgrey', 'pomegranate'])\n",
    "_ = msme.plot_tpaths(msm, [4], [0], pos=pos, node_color=cmap(w),\n",
    "                     alpha=.9, edge_color='black', ax=ax)"
   ]
  }
 ],
 "metadata": {
  "anaconda-cloud": {},
  "hide_input": false,
  "kernelspec": {
   "display_name": "Python 3",
   "language": "python",
   "name": "python3"
  },
  "language_info": {
   "codemirror_mode": {
    "name": "ipython",
    "version": 3
   },
   "file_extension": ".py",
   "mimetype": "text/x-python",
   "name": "python",
   "nbconvert_exporter": "python",
   "pygments_lexer": "ipython3",
   "version": "3.6.0"
  }
 },
 "nbformat": 4,
 "nbformat_minor": 1
}
