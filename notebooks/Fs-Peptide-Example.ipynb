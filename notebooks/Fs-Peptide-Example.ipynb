{
 "cells": [
  {
   "cell_type": "markdown",
   "metadata": {},
   "source": [
    "## Modeling dynamics of FS Peptide\n",
    "\n",
    "This example shows a typical, basic usage of the MSMExplorer command line to plot the modeled dynamics of a protein system."
   ]
  },
  {
   "cell_type": "code",
   "execution_count": null,
   "metadata": {
    "collapsed": false
   },
   "outputs": [],
   "source": [
    "%matplotlib inline\n",
    "\n",
    "from msmbuilder.featurizer import DihedralFeaturizer\n",
    "from msmbuilder.decomposition import tICA\n",
    "from msmbuilder.preprocessing import RobustScaler\n",
    "from msmbuilder.cluster import MiniBatchKMeans\n",
    "from msmbuilder.msm import MarkovStateModel\n",
    "\n",
    "import numpy as np\n",
    "\n",
    "import msmexplorer as msme\n",
    "from msmexplorer.example_datasets import FsPeptide\n",
    "\n",
    "rs = np.random.RandomState(42)"
   ]
  },
  {
   "cell_type": "markdown",
   "metadata": {},
   "source": [
    "## Load Fs Peptide Data"
   ]
  },
  {
   "cell_type": "code",
   "execution_count": null,
   "metadata": {
    "collapsed": false
   },
   "outputs": [],
   "source": [
    "trajs = FsPeptide(verbose=False).get().trajectories"
   ]
  },
  {
   "cell_type": "markdown",
   "metadata": {},
   "source": [
    "## Extract Backbone Dihedrals\n",
    "\n",
    "The raw (x, y, z) coordinates from the simulation do not respect the translational and rotational symmetry of our problem. A Featurizer transforms cartesian coordinates into other representations. Here we use the DihedralFeaturizer to turn our data into phi and psi dihedral angles. Observe that the 264*3-dimensional space is reduced to 84 dimensions."
   ]
  },
  {
   "cell_type": "code",
   "execution_count": null,
   "metadata": {
    "collapsed": false
   },
   "outputs": [],
   "source": [
    "featurizer = DihedralFeaturizer(types=['phi', 'psi'])\n",
    "diheds = featurizer.fit_transform(trajs)"
   ]
  },
  {
   "cell_type": "markdown",
   "metadata": {},
   "source": [
    "## Preprocess Data\n",
    "\n",
    "RobustScaler removes the median and scales the data according to the Interquartile Range (IQR). The IQR is the range between the 1st quartile (25th quantile) and the 3rd quartile (75th quantile)."
   ]
  },
  {
   "cell_type": "code",
   "execution_count": null,
   "metadata": {
    "collapsed": false
   },
   "outputs": [],
   "source": [
    "scaler = RobustScaler()\n",
    "scaled_data = scaler.fit_transform(diheds)"
   ]
  },
  {
   "cell_type": "markdown",
   "metadata": {},
   "source": [
    "## Perform Dimensionality Reduction\n",
    "\n",
    "tICA is similar to principal component analysis (see \"tICA vs. PCA\" example). Note that the 84-dimensional space is reduced to 2 dimensions."
   ]
  },
  {
   "cell_type": "code",
   "execution_count": null,
   "metadata": {
    "collapsed": false
   },
   "outputs": [],
   "source": [
    "tica_model = tICA(lag_time=10, n_components=2, kinetic_mapping=True)\n",
    "tica_trajs = tica_model.fit_transform(scaled_data)\n",
    "\n",
    "ax, side_ax = msme.plot_trace(tica_trajs[0][:, 0], window=10,\n",
    "                              label='tIC1', xlabel='Timestep')\n",
    "_ = msme.plot_trace(tica_trajs[0][:, 1], window=10, label='tIC2',\n",
    "                    xlabel='Timestep', color='rawdenim', ax=ax,\n",
    "                    side_ax=side_ax)"
   ]
  },
  {
   "cell_type": "markdown",
   "metadata": {},
   "source": [
    "## Perform Clustering\n",
    "\n",
    "Conformations need to be clustered into states (sometimes written as microstates). We cluster based on the tICA projections to group conformations that interconvert rapidly. Note that we transform our trajectories from the 4-dimensional tICA space into a 1-dimensional cluster index."
   ]
  },
  {
   "cell_type": "code",
   "execution_count": null,
   "metadata": {
    "collapsed": false
   },
   "outputs": [],
   "source": [
    "clusterer = MiniBatchKMeans(n_clusters=12, random_state=rs)\n",
    "clustered_trajs = clusterer.fit_transform(tica_trajs)\n",
    "\n",
    "_ = msme.plot_voronoi(clusterer, xlabel='tIC1', ylabel='tIC2')"
   ]
  },
  {
   "cell_type": "markdown",
   "metadata": {},
   "source": [
    "## Construct MSM\n",
    "\n",
    "We can construct an MSM from the labeled trajectories and plot the implied timescales."
   ]
  },
  {
   "cell_type": "code",
   "execution_count": null,
   "metadata": {
    "collapsed": false
   },
   "outputs": [],
   "source": [
    "msm = MarkovStateModel(lag_time=1, n_timescales=5)\n",
    "assigns = msm.fit_transform(clustered_trajs)\n",
    "\n",
    "_ = msme.plot_pop_resids(msm, color='tarragon')"
   ]
  },
  {
   "cell_type": "code",
   "execution_count": null,
   "metadata": {
    "collapsed": false
   },
   "outputs": [],
   "source": [
    "_ = msme.plot_timescales(msm, ylabel=r'Relaxation Time ($ns$)')"
   ]
  },
  {
   "cell_type": "markdown",
   "metadata": {},
   "source": [
    "## Free Energy Landscape\n",
    "\n",
    "From our MSM and tICA data, we can construct a 2-D free energy landscape."
   ]
  },
  {
   "cell_type": "code",
   "execution_count": null,
   "metadata": {
    "collapsed": false
   },
   "outputs": [],
   "source": [
    "data = np.concatenate(tica_trajs, axis=0)\n",
    "pi_0 = msm.populations_[np.concatenate(assigns, axis=0)]\n",
    "\n",
    "\n",
    "# Free Energy Surface\n",
    "ax = msme.plot_free_energy(data, obs=(0, 1), n_samples=10000,\n",
    "                          pi=pi_0, gridsize=100, vmax=5.,\n",
    "                          n_levels=8, cut=5, xlabel='tIC1',\n",
    "                          ylabel='tIC2', random_state=rs)\n",
    "\n",
    "# MSM Network\n",
    "pos = dict(zip(range(clusterer.n_clusters), clusterer.cluster_centers_))\n",
    "_ = msme.plot_msm_network(msm, pos=pos, node_color='carbon',\n",
    "                          with_labels=False)\n",
    "\n",
    "\n",
    "# Top Transition Pathway\n",
    "w = (msm.left_eigenvectors_[:, 1] - msm.left_eigenvectors_[:, 1].min())\n",
    "w /= w.max()\n",
    "cmap = msme.utils.make_colormap(['rawdenim', 'lightgrey', 'pomegranate'])\n",
    "_ = msme.plot_tpaths(msm, [4], [0], pos=pos, node_color=cmap(w),\n",
    "                     alpha=.9, edge_color='black', ax=ax)"
   ]
  }
 ],
 "metadata": {
  "anaconda-cloud": {},
  "kernelspec": {
   "display_name": "Python [default]",
   "language": "python",
   "name": "python3"
  },
  "language_info": {
   "codemirror_mode": {
    "name": "ipython",
    "version": 3
   },
   "file_extension": ".py",
   "mimetype": "text/x-python",
   "name": "python",
   "nbconvert_exporter": "python",
   "pygments_lexer": "ipython3",
   "version": "3.5.2"
  }
 },
 "nbformat": 4,
 "nbformat_minor": 0
}
